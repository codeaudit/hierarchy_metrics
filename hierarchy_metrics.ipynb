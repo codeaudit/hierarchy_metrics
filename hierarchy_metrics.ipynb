{
 "cells": [
  {
   "cell_type": "markdown",
   "metadata": {},
   "source": [
    "# Metrics for hierarchical graph clustering"
   ]
  },
  {
   "cell_type": "markdown",
   "metadata": {},
   "source": [
    "This notebook presents the experiments related to the paper:\n",
    "\n",
    "T. Bonald, B. Charpentier, [Learning Graph Representations by Dendrograms](http://arxiv.org/abs/1807.05087), 2018\n",
    "\n",
    "These experiments illustrate the properties of the following metric for assessing the quality of a binary tree ${\\cal T}$ for representing the hierarchical structure of a graph:\n",
    "$$\n",
    " \\sum_{A,B: (A,B) \\in {\\cal I}}p(A,B) \\log \\frac{p(A,B)}{\\pi(A) \\pi(B)},\n",
    "$$\n",
    "where:\n",
    "* ${\\cal I}$ is the set of internal nodes of the tree ${\\cal T}$ \n",
    "* $A,B$ are the sets of nodes induced by each element of ${\\cal I}$\n",
    "* $p(A,B)$ is the sampling probability of the node sets $A,B$\n",
    "* $\\pi(A)$ is the sampling probability of the node set $A$\n",
    "\n",
    "This metric is the Kullback-Leibler divergence between the  probability distribution on node sets  induced by the tree ${\\cal T}$ and that induced by independent node sampling from the   distribution $\\pi$. \n",
    "\n",
    "Another popular metric for assessing the quality of a binary tree ${\\cal T}$ is Dasgupta's cost function:\n",
    "$$\n",
    "\\sum_{A,B: (A,B) \\in {\\cal I}}p(A,B) (\\pi(A)  + \\pi(B)).\n",
    "$$"
   ]
  },
  {
   "cell_type": "markdown",
   "metadata": {},
   "source": [
    "## Import"
   ]
  },
  {
   "cell_type": "code",
   "execution_count": null,
   "metadata": {
    "collapsed": true
   },
   "outputs": [],
   "source": [
    "import numpy as np\n",
    "import networkx as nx\n",
    "import matplotlib.pyplot as plt"
   ]
  },
  {
   "cell_type": "markdown",
   "metadata": {},
   "source": [
    "## Algorithms"
   ]
  },
  {
   "cell_type": "code",
   "execution_count": null,
   "metadata": {
    "collapsed": true
   },
   "outputs": [],
   "source": [
    "def init_aggregate_graph(graph):\n",
    "    aggregate_graph = graph.copy()\n",
    "    # index nodes from 0 to n - 1\n",
    "    number_nodes = aggregate_graph.number_of_nodes()\n",
    "    if set(aggregate_graph.nodes()) != set(range(number_nodes)):\n",
    "        aggregate_graph = nx.convert_node_labels_to_integers(aggregate_graph)\n",
    "    # node weights\n",
    "    node_weights = {u: 0. for u in range(number_nodes)}\n",
    "    total_weight = 0. \n",
    "    edges = list(aggregate_graph.edges())\n",
    "    for (u,v) in edges:\n",
    "        if u == v:\n",
    "            # remove self-loop\n",
    "            aggregate_graph.remove_edge(u,u)\n",
    "        else:\n",
    "            if 'weight' not in aggregate_graph[u][v]:\n",
    "                aggregate_graph[u][v]['weight'] = 1.\n",
    "            weight = aggregate_graph[u][v]['weight']\n",
    "            node_weights[u] += weight\n",
    "            node_weights[v] += weight\n",
    "            total_weight += 2 * weight\n",
    "    nx.set_node_attributes(aggregate_graph, node_weights, 'weight')\n",
    "    # node sizes   \n",
    "    nx.set_node_attributes(aggregate_graph, 1, 'size')\n",
    "    return aggregate_graph,total_weight"
   ]
  },
  {
   "cell_type": "code",
   "execution_count": null,
   "metadata": {
    "collapsed": true
   },
   "outputs": [],
   "source": [
    "def merge_nodes(graph, u, v, new_node):\n",
    "    neighbors_u = list(graph.neighbors(u))\n",
    "    neighbors_v = list(graph.neighbors(v))\n",
    "    graph.add_node(new_node)\n",
    "    for node in neighbors_u:\n",
    "        graph.add_edge(new_node,node,weight = graph[u][node]['weight'])\n",
    "    for node in neighbors_v:\n",
    "        if graph.has_edge(new_node,node):\n",
    "            graph[new_node][node]['weight'] += graph[v][node]['weight']\n",
    "        else:\n",
    "            graph.add_edge(new_node,node,weight = graph[v][node]['weight'])\n",
    "    graph.node[new_node]['weight'] = graph.node[u]['weight'] + graph.node[v]['weight']\n",
    "    graph.node[new_node]['size'] = graph.node[u]['size'] + graph.node[v]['size']\n",
    "    graph.remove_node(u)\n",
    "    graph.remove_node(v)\n",
    "    return graph"
   ]
  },
  {
   "cell_type": "code",
   "execution_count": null,
   "metadata": {
    "collapsed": true
   },
   "outputs": [],
   "source": [
    "def paris_hierarchy(graph):\n",
    "    # dendrogram as list of merges\n",
    "    dendrogram = []\n",
    "    \n",
    "    if nx.is_connected(graph):\n",
    "        aggregate_graph, total_weight = init_aggregate_graph(graph)\n",
    "        number_nodes = aggregate_graph.number_of_nodes()\n",
    "        new_node = number_nodes\n",
    "        while number_nodes > 0:\n",
    "            # nearest-neighbor chain\n",
    "            chain = [list(aggregate_graph.nodes())[0]]\n",
    "            while chain != []:\n",
    "                current_node = chain.pop()\n",
    "                # find nearest neighbor \n",
    "                distance_min = float(\"inf\")\n",
    "                nearest_neighbor = -1\n",
    "                for node in aggregate_graph.neighbors(current_node):\n",
    "                    if node != current_node:\n",
    "                        distance = (aggregate_graph.node[current_node]['weight'] * aggregate_graph.node[node]['weight'] \n",
    "                            / aggregate_graph[current_node][node]['weight'] / total_weight)\n",
    "                        if distance < distance_min:\n",
    "                            nearest_neighbor = node\n",
    "                            distance_min = distance\n",
    "                        elif distance == distance_min:\n",
    "                            nearest_neighbor = min(nearest_neighbor,node)\n",
    "                distance = distance_min\n",
    "                if chain != []:\n",
    "                    next_node = chain.pop()\n",
    "                    if next_node == nearest_neighbor:\n",
    "                        # merge nodes\n",
    "                        size = aggregate_graph.node[current_node]['size'] + aggregate_graph.node[next_node]['size']\n",
    "                        dendrogram.append([current_node,next_node,distance,size])\n",
    "                        aggregate_graph = merge_nodes(aggregate_graph,current_node,next_node,new_node)\n",
    "                        number_nodes -= 1\n",
    "                        new_node += 1\n",
    "                    else:\n",
    "                        chain.append(next_node)\n",
    "                        chain.append(current_node)\n",
    "                        chain.append(nearest_neighbor)\n",
    "                elif nearest_neighbor >= 0:\n",
    "                    chain.append(current_node)\n",
    "                    chain.append(nearest_neighbor)\n",
    "                else:\n",
    "                    number_nodes -= 1\n",
    "    else:\n",
    "        print(\"Error: The graph is not connected\")\n",
    "    return np.array(dendrogram, float)"
   ]
  },
  {
   "cell_type": "code",
   "execution_count": null,
   "metadata": {
    "collapsed": true
   },
   "outputs": [],
   "source": [
    "def newman_hierarchy(graph):\n",
    "    # dendrogram as list of merges\n",
    "    dendrogram = []\n",
    "    \n",
    "    if nx.is_connected(graph):\n",
    "        aggregate_graph, total_weight = init_aggregate_graph(graph)\n",
    "        # modularity increase\n",
    "        for (u,v) in aggregate_graph.edges():\n",
    "            aggregate_graph[u][v]['delta'] = 2 * (aggregate_graph[u][v]['weight']  \n",
    "                                                  - aggregate_graph.node[u]['weight'] \n",
    "                                                  * aggregate_graph.node[v]['weight'] \n",
    "                                                  / total_weight) / total_weight\n",
    "        number_nodes = aggregate_graph.number_of_nodes()\n",
    "        new_node = number_nodes\n",
    "        while number_nodes > 1:\n",
    "            # find the best node pair for modularity increase\n",
    "            delta = nx.get_edge_attributes(aggregate_graph,'delta')\n",
    "            u,v = max(delta, key = delta.get)\n",
    "            if u == v:\n",
    "                print(u,aggregate_graph[u][u]['delta'])\n",
    "            # merge nodes\n",
    "            size = aggregate_graph.node[u]['size'] + aggregate_graph.node[v]['size']\n",
    "            dendrogram.append([u,v,size,size])\n",
    "            aggregate_graph = merge_nodes(aggregate_graph,u,v,new_node)\n",
    "            for u in aggregate_graph.neighbors(new_node):\n",
    "                aggregate_graph[u][new_node]['delta'] = 2 * (aggregate_graph[u][new_node]['weight']  \n",
    "                                                  - aggregate_graph.node[u]['weight'] \n",
    "                                                  * aggregate_graph.node[new_node]['weight'] \n",
    "                                                  / total_weight) / total_weight\n",
    "            number_nodes -= 1\n",
    "            new_node += 1\n",
    "    else:\n",
    "        print(\"Error: The graph is not connected\")\n",
    "    return np.array(dendrogram, float)    "
   ]
  },
  {
   "cell_type": "code",
   "execution_count": null,
   "metadata": {
    "collapsed": true,
    "hide_input": false
   },
   "outputs": [],
   "source": [
    "def random_hierarchy(graph):\n",
    "    # dendrogram as list of merges\n",
    "    dendrogram = []\n",
    "    \n",
    "    if nx.is_connected(graph):\n",
    "        aggregate_graph, total_weight = init_aggregate_graph(graph)\n",
    "        number_nodes = aggregate_graph.number_of_nodes()\n",
    "        new_node = number_nodes\n",
    "        while number_nodes > 1:\n",
    "            # random edge \n",
    "            edges = list(aggregate_graph.edges())\n",
    "            u,v = edges[np.random.randint(len(edges))]\n",
    "            # merge nodes\n",
    "            size = aggregate_graph.node[u]['size'] + aggregate_graph.node[v]['size']\n",
    "            dendrogram.append([u,v,size,size])\n",
    "            aggregate_graph = merge_nodes(aggregate_graph,u,v,new_node)\n",
    "            number_nodes -= 1\n",
    "            new_node += 1\n",
    "    else:\n",
    "        print(\"Error: The graph is not connected\")\n",
    "    return np.array(dendrogram, float)    "
   ]
  },
  {
   "cell_type": "code",
   "execution_count": null,
   "metadata": {
    "collapsed": true
   },
   "outputs": [],
   "source": [
    "def hierarchical_clustering(graph, algorithm):\n",
    "    if algorithm == \"paris\":\n",
    "        return paris_hierarchy(graph)\n",
    "    elif algorithm == \"newman\":\n",
    "        return newman_hierarchy(graph)\n",
    "    elif algorithm == \"random\":\n",
    "        return random_hierarchy(graph)\n",
    "    else:\n",
    "        print(\"Unknown algorithm\")"
   ]
  },
  {
   "cell_type": "markdown",
   "metadata": {},
   "source": [
    "## Metrics"
   ]
  },
  {
   "cell_type": "code",
   "execution_count": null,
   "metadata": {
    "collapsed": true
   },
   "outputs": [],
   "source": [
    "def relative_entropy(graph, dendrogram, weighted = True): \n",
    "    aggregate_graph, total_weight = init_aggregate_graph(graph) \n",
    "    number_nodes = aggregate_graph.number_of_nodes()\n",
    "    if weighted:\n",
    "        pi = {u: aggregate_graph.node[u]['weight'] / total_weight for u in aggregate_graph.nodes()}\n",
    "    else:\n",
    "        pi = {u: 1. / number_nodes for u in aggregate_graph.nodes()}\n",
    "    quality = 0.\n",
    "    for t in range(number_nodes - 1):\n",
    "        u = int(dendrogram[t][0])\n",
    "        v = int(dendrogram[t][1])\n",
    "        if aggregate_graph.has_edge(u,v):\n",
    "            p = 2 * aggregate_graph[u][v]['weight'] / total_weight \n",
    "            quality += p * np.log(p / pi[u] / pi[v])\n",
    "        aggregate_graph = merge_nodes(aggregate_graph, u, v, number_nodes + t)\n",
    "        pi[number_nodes + t] = pi.pop(u) + pi.pop(v)\n",
    "    return quality  "
   ]
  },
  {
   "cell_type": "code",
   "execution_count": null,
   "metadata": {
    "collapsed": true
   },
   "outputs": [],
   "source": [
    "def dasgupta_cost(graph, dendrogram, weighted = True):    \n",
    "    aggregate_graph, total_weight = init_aggregate_graph(graph) \n",
    "    number_nodes = aggregate_graph.number_of_nodes()\n",
    "    if weighted:\n",
    "        pi = {u: aggregate_graph.node[u]['weight'] / total_weight for u in aggregate_graph.nodes()}\n",
    "    else:\n",
    "        pi = {u: 1. / number_nodes for u in aggregate_graph.nodes()}\n",
    "    cost = 0.\n",
    "    for t in range(number_nodes - 1):\n",
    "        u = int(dendrogram[t][0])\n",
    "        v = int(dendrogram[t][1])\n",
    "        if aggregate_graph.has_edge(u,v):\n",
    "            p = 2 * aggregate_graph[u][v]['weight'] / total_weight \n",
    "            cost += p * (pi[u] + pi[v])\n",
    "        aggregate_graph = merge_nodes(aggregate_graph, u, v, number_nodes + t)\n",
    "        pi[number_nodes + t] = pi.pop(u) + pi.pop(v)\n",
    "    return cost    "
   ]
  },
  {
   "cell_type": "markdown",
   "metadata": {},
   "source": [
    "## Experiments on real data"
   ]
  },
  {
   "cell_type": "code",
   "execution_count": null,
   "metadata": {
    "collapsed": true
   },
   "outputs": [],
   "source": [
    "import urllib.request\n",
    "\n",
    "url = \"http://perso.telecom-paristech.fr/~bonald/graphs/\"\n",
    "\n",
    "# Openflights\n",
    "dataset = \"openflights.graphml.gz\"\n",
    "# Wikipedia for schools\n",
    "#dataset = \"wikipedia_schools_undirected.graphml.gz\"\n",
    "\n",
    "download = urllib.request.urlretrieve(url + dataset, dataset)"
   ]
  },
  {
   "cell_type": "code",
   "execution_count": null,
   "metadata": {
    "collapsed": true
   },
   "outputs": [],
   "source": [
    "graph = nx.read_graphml(dataset, node_type=int)"
   ]
  },
  {
   "cell_type": "code",
   "execution_count": null,
   "metadata": {},
   "outputs": [],
   "source": [
    "print(nx.info(graph))"
   ]
  },
  {
   "cell_type": "code",
   "execution_count": null,
   "metadata": {
    "collapsed": true
   },
   "outputs": [],
   "source": [
    "# Number of samples for the random algorithm\n",
    "number_samples = 100"
   ]
  },
  {
   "cell_type": "code",
   "execution_count": null,
   "metadata": {
    "collapsed": true
   },
   "outputs": [],
   "source": [
    "dendrogram_paris = hierarchical_clustering(graph, \"paris\")"
   ]
  },
  {
   "cell_type": "code",
   "execution_count": null,
   "metadata": {
    "collapsed": true
   },
   "outputs": [],
   "source": [
    "dendrogram_newman = hierarchical_clustering(graph, \"newman\")"
   ]
  },
  {
   "cell_type": "code",
   "execution_count": null,
   "metadata": {
    "collapsed": true,
    "scrolled": true
   },
   "outputs": [],
   "source": [
    "dendrogram_random = [hierarchical_clustering(graph, \"random\") for s in range(number_samples)]"
   ]
  },
  {
   "cell_type": "code",
   "execution_count": null,
   "metadata": {
    "scrolled": false
   },
   "outputs": [],
   "source": [
    "print('Relative entropy (weighted, uniform)')\n",
    "print('Paris hierarchy: ', relative_entropy(graph, dendrogram_paris), relative_entropy(graph, dendrogram_paris, False))\n",
    "print('Newman hierarchy: ', relative_entropy(graph, dendrogram_newman), relative_entropy(graph, dendrogram_newman, False))\n",
    "print('Random hierarchy: ', np.mean([relative_entropy(graph, d) for d in dendrogram_random]),np.mean([relative_entropy(graph, d, False) for d in dendrogram_random]))"
   ]
  },
  {
   "cell_type": "code",
   "execution_count": null,
   "metadata": {},
   "outputs": [],
   "source": [
    "print('Dasgupta cost (weighted, uniform)')\n",
    "print('Paris hierarchy: ', dasgupta_cost(graph, dendrogram_paris), dasgupta_cost(graph, dendrogram_paris, False))\n",
    "print('Newman hierarchy: ', dasgupta_cost(graph, dendrogram_newman), dasgupta_cost(graph, dendrogram_newman, False))\n",
    "print('Random hierarchy: ', np.mean([dasgupta_cost(graph, d) for d in dendrogram_random]), np.mean([dasgupta_cost(graph, d, False) for d in dendrogram_random])) "
   ]
  },
  {
   "cell_type": "markdown",
   "metadata": {},
   "source": [
    "## Experiments on synthetic data"
   ]
  },
  {
   "cell_type": "code",
   "execution_count": null,
   "metadata": {
    "collapsed": true
   },
   "outputs": [],
   "source": [
    "def random_dendrogram(number_nodes = 100):\n",
    "    nodes = list(range(number_nodes))\n",
    "    dendrogram = []\n",
    "    t = 0\n",
    "    size = {u: 1 for u in nodes}\n",
    "    while (len(nodes)) > 1:\n",
    "        u = nodes.pop(np.random.randint(len(nodes)))\n",
    "        v = nodes.pop(np.random.randint(len(nodes)))\n",
    "        new_node = number_nodes + t\n",
    "        t += 1\n",
    "        size[new_node] = size.pop(u) + size.pop(v)\n",
    "        dendrogram.append([u,v,size[new_node],size[new_node]])\n",
    "        nodes.append(new_node)\n",
    "    return np.array(dendrogram, float)"
   ]
  },
  {
   "cell_type": "code",
   "execution_count": null,
   "metadata": {
    "collapsed": true
   },
   "outputs": [],
   "source": [
    "def get_similarity(dendrogram):\n",
    "    n = np.shape(dendrogram)[0] + 1\n",
    "    sim = np.zeros((n,n),float)\n",
    "    cluster = {u:[u] for u in range(n)}\n",
    "    for t in range(n - 1):\n",
    "        u = int(dendrogram[t][0])\n",
    "        v = int(dendrogram[t][1])\n",
    "        for i in cluster[u]:\n",
    "            for j in cluster[v]:\n",
    "                sim[i][j] = 1 / dendrogram[t][2]\n",
    "        cluster[n + t] = cluster.pop(u) + cluster.pop(v)\n",
    "    return sim"
   ]
  },
  {
   "cell_type": "code",
   "execution_count": null,
   "metadata": {
    "collapsed": true
   },
   "outputs": [],
   "source": [
    "def generate_graph(dendrogram, average_degree = 10):\n",
    "    n = np.shape(dendrogram)[0] + 1\n",
    "    similarity = get_similarity(dendrogram)\n",
    "    is_connected = False\n",
    "    while not is_connected:\n",
    "        adjacency = np.random.rand(n,n) < similarity / np.sum(similarity) * n * average_degree / 2\n",
    "        adjacency = np.array(adjacency + adjacency.T,int)\n",
    "        graph = nx.from_numpy_matrix(adjacency)\n",
    "        is_connected = nx.is_connected(graph)\n",
    "    return graph"
   ]
  },
  {
   "cell_type": "code",
   "execution_count": null,
   "metadata": {
    "collapsed": true
   },
   "outputs": [],
   "source": [
    "def add_noise(graph, prob = 0.1):\n",
    "    is_connected = False\n",
    "    while not is_connected:\n",
    "        new_graph = graph.copy()\n",
    "        edges = list(graph.edges())\n",
    "        indices = np.random.choice(list(range(len(edges))),replace = False, size = int(np.floor(prob * len(edges))))\n",
    "        for i in indices:\n",
    "            u,v = edges[i]\n",
    "            new_graph.remove_edge(u,v)\n",
    "            new_edge = np.random.choice(list(new_graph.nodes()), replace = False, size = 2)\n",
    "            new_graph.add_edge(new_edge[0],new_edge[1],weight = 1.)\n",
    "        is_connected = nx.is_connected(new_graph)\n",
    "    return new_graph"
   ]
  },
  {
   "cell_type": "code",
   "execution_count": null,
   "metadata": {
    "collapsed": true
   },
   "outputs": [],
   "source": [
    "def classification_scores(number_nodes, average_degree, prob_range, number_samples, algorithm, weighted = True):\n",
    "    results = []\n",
    "    for prob in prob_range:\n",
    "        cost = 0.\n",
    "        quality = 0.\n",
    "        for s in range(number_samples):\n",
    "            dendrogram = random_dendrogram(number_nodes)\n",
    "            graph = generate_graph(dendrogram, average_degree)\n",
    "            graph1 = add_noise(graph,prob)\n",
    "            graph2 = add_noise(graph,prob)\n",
    "            dendrogram1 = hierarchical_clustering(graph1, algorithm)\n",
    "            dendrogram2 = hierarchical_clustering(graph2, algorithm)\n",
    "            cost += (dasgupta_cost(graph1, dendrogram1, weighted) < dasgupta_cost(graph1, dendrogram2, weighted))\n",
    "            cost += (dasgupta_cost(graph2, dendrogram2, weighted) < dasgupta_cost(graph2, dendrogram1, weighted))\n",
    "            quality += (relative_entropy(graph1, dendrogram1, weighted) > relative_entropy(graph1, dendrogram2, weighted))\n",
    "            quality += (relative_entropy(graph2, dendrogram2, weighted) > relative_entropy(graph2, dendrogram1, weighted))\n",
    "        results.append((cost / 2 / number_samples, quality / 2 / number_samples))\n",
    "    return np.array(results)"
   ]
  },
  {
   "cell_type": "code",
   "execution_count": null,
   "metadata": {
    "collapsed": true
   },
   "outputs": [],
   "source": [
    "number_nodes = 100\n",
    "average_degree = 10\n",
    "prob_range = np.arange(0.01,0.2,0.03)\n",
    "number_samples = 1000\n",
    "results_paris = classification_scores(number_nodes, average_degree, prob_range, number_samples, \"paris\", True)\n",
    "results_newman = classification_scores(number_nodes, average_degree, prob_range, number_samples, \"newman\", True)"
   ]
  },
  {
   "cell_type": "code",
   "execution_count": null,
   "metadata": {},
   "outputs": [],
   "source": [
    "plt.figure()\n",
    "plt.plot(100 * prob_range,100 * results_paris[:,1],label = 'Entropy', color = \"b\")\n",
    "plt.plot(100 * prob_range,100 * results_paris[:,0],'--',label = 'Dasgupta',color = \"b\")\n",
    "plt.plot(100 * prob_range,100 * results_newman[:,1], color = \"r\")\n",
    "plt.plot(100 * prob_range,100 * results_newman[:,0],'--',color = \"r\")\n",
    "plt.xticks(np.arange(0, 21, step=5))\n",
    "plt.xlabel(\"Graph distance (%)\")\n",
    "plt.ylabel(\"Classification score (%)\")\n",
    "plt.legend()\n",
    "plt.show()"
   ]
  },
  {
   "cell_type": "code",
   "execution_count": null,
   "metadata": {
    "collapsed": true
   },
   "outputs": [],
   "source": []
  }
 ],
 "metadata": {
  "hide_input": false,
  "kernelspec": {
   "display_name": "Python 3",
   "language": "python",
   "name": "python3"
  },
  "language_info": {
   "codemirror_mode": {
    "name": "ipython",
    "version": 3
   },
   "file_extension": ".py",
   "mimetype": "text/x-python",
   "name": "python",
   "nbconvert_exporter": "python",
   "pygments_lexer": "ipython3",
   "version": "3.6.1"
  }
 },
 "nbformat": 4,
 "nbformat_minor": 2
}
